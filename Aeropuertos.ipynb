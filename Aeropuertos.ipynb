{
  "cells": [
    {
      "cell_type": "markdown",
      "metadata": {
        "id": "CE9Oz34A2QS5"
      },
      "source": [
        "#Integrantes\n",
        "* Raúl Morales Galindo\n",
        "* Hector Suarez Camacho\n",
        "* Fernando Mateo Valencia Gomez"
      ]
    },
    {
      "cell_type": "markdown",
      "metadata": {
        "id": "NPUsA21WZ7eI"
      },
      "source": [
        "# Dataset"
      ]
    },
    {
      "cell_type": "code",
      "execution_count": 99,
      "metadata": {
        "id": "5mIcI2UsuR8e"
      },
      "outputs": [],
      "source": [
        "import folium\n",
        "import pandas as pd\n",
        "import math\n",
        "import heapq\n",
        "import numpy as np\n",
        "\n",
        "#cities = pd.read_csv(\"/content/cities_cord.csv\")\n",
        "#cities = cities[['city','lat','lng','country','admin_name', 'capital']]\n",
        "cities_url ='https://raw.githubusercontent.com/Rcgil30/Lab2ED2/main/data/cities_cord.csv?token=GHSAT0AAAAAABYNZVOT5XKRGNAMUEOHM3VOYZOGQ4A'\n",
        "cities = pd.read_csv(cities_url)\n",
        "cities  = cities[(cities['country'] == \"Colombia\")]\n",
        "cities  = cities[(cities['capital'] == \"admin\") | (cities['capital'] == \"primary\")]\n",
        "cities['city'] = cities['city'].str.upper()\n",
        "cities = cities[['city','lat','lng']]"
      ]
    },
    {
      "cell_type": "code",
      "execution_count": null,
      "metadata": {
        "colab": {
          "base_uri": "https://localhost:8080/",
          "height": 1000
        },
        "id": "TVrfHYE66qad",
        "outputId": "9b5a254e-4c15-4306-cfe8-5a7269f1225c"
      },
      "outputs": [],
      "source": [
        "cities"
      ]
    },
    {
      "cell_type": "markdown",
      "metadata": {
        "id": "49xQJkf8aCaA"
      },
      "source": [
        "# Distancia a partir de coordenadas"
      ]
    },
    {
      "cell_type": "code",
      "execution_count": 101,
      "metadata": {
        "id": "V4OAN2M9xqw2"
      },
      "outputs": [],
      "source": [
        "def haversine_distance(lat1, lon1, lat2, lon2, r=6371):\n",
        "    coordinates = lat1, lon1, lat2, lon2\n",
        "    phi1, lambda1, phi2, lambda2 = [\n",
        "        math.radians(c) for c in coordinates\n",
        "    ]  \n",
        "    a = (np.square(math.sin((phi2-phi1)/2)) + math.cos(phi1) * math.cos(phi2) * \n",
        "         np.square(math.sin((lambda2-lambda1)/2)))\n",
        "    d = 2*r*math.asin(np.sqrt(a))\n",
        "    return d"
      ]
    },
    {
      "cell_type": "markdown",
      "metadata": {
        "id": "R1QYwoeUaG6W"
      },
      "source": [
        "# Grafo"
      ]
    },
    {
      "cell_type": "code",
      "execution_count": 102,
      "metadata": {
        "id": "7y8fpk1LygXm"
      },
      "outputs": [],
      "source": [
        "class Node:\n",
        "    def __init__(self, data: str) -> None:\n",
        "        # Nombre de la ciudad\n",
        "        self.data = data\n",
        "        # Latitud y longitud de la ciudad\n",
        "        self.lat: float = 0\n",
        "        self.lng: float = 0\n",
        "        self.connections: list[Node] = []\n",
        "\n",
        "class Grafo:\n",
        "    def __init__(self) -> None:\n",
        "        # Cada elemento de la lista de vertices corresponde en su index a la de ciudades\n",
        "        self.listavertices: list[Node] = []\n",
        "        self.listaciudades: list[str] = []\n",
        "        self.MatrizDis: list[list[float]] = []"
      ]
    },
    {
      "cell_type": "code",
      "execution_count": 103,
      "metadata": {
        "id": "RjCch19W1zha"
      },
      "outputs": [],
      "source": [
        "grafo = Grafo()\n",
        "\"\"\"Iteramos a través del df y añadimos las ciudades al grafo\"\"\"\n",
        "c = 0\n",
        "for index, cap in cities.iterrows():\n",
        "    ciudad = cap[\"city\"]\n",
        "    \"\"\"Para cada ciudad que no este incluida en el grafo, definimos\n",
        "       sus atributos y la incluimos a este\n",
        "    \"\"\"\n",
        "    if ciudad not in grafo.listaciudades:\n",
        "        grafo.listaciudades.append(ciudad)\n",
        "        nodo = Node(ciudad)\n",
        "        grafo.listavertices.append(nodo)\n",
        "        nodo.pos = c\n",
        "        nodo.lat = float(cap[\"lat\"])\n",
        "        nodo.lng = float(cap[\"lng\"])\n",
        "        c += 1\n",
        "\n",
        "for i in range(len(grafo.listavertices)):\n",
        "            row = [0.0] * len(grafo.listavertices)\n",
        "            grafo.MatrizDis.append(row)\n"
      ]
    },
    {
      "cell_type": "code",
      "execution_count": 104,
      "metadata": {
        "id": "jJTdu09eyyCe"
      },
      "outputs": [],
      "source": [
        "# Matriz de distancia\n",
        "for i in range(len(grafo.listavertices)):\n",
        "    for j in range(i+1, len(grafo.listavertices)):\n",
        "        nodo1 = grafo.listavertices[i]\n",
        "        nodo2 = grafo.listavertices[j]\n",
        "        distancia = haversine_distance(nodo1.lat, nodo1.lng, nodo2.lat, nodo2.lng)\n",
        "        nodo1.connections.append(nodo2)\n",
        "        nodo2.connections.append(nodo1)\n",
        "        grafo.MatrizDis[i][j] = distancia\n",
        "        grafo.MatrizDis[j][i] = distancia\n",
        "\n"
      ]
    },
    {
      "cell_type": "markdown",
      "metadata": {
        "id": "Xzczlq44A9_k"
      },
      "source": [
        "#Nodos"
      ]
    },
    {
      "cell_type": "code",
      "execution_count": null,
      "metadata": {
        "colab": {
          "base_uri": "https://localhost:8080/",
          "height": 831
        },
        "id": "xRsvGdIM9BkD",
        "outputId": "c746ee23-99b9-4c09-c00f-98812620dd06"
      },
      "outputs": [],
      "source": [
        "mapG = folium.Map(location=[4.570868,-74.297333],zoom_start=4)\n",
        "for index, location_info in cities.iterrows():\n",
        "    folium.Marker([location_info[\"lat\"], location_info[\"lng\"]], popup=location_info[\"city\"], icon=folium.Icon(color=\"blue\", icon=\"plane\")).add_to(mapG)\n",
        "mapG"
      ]
    },
    {
      "cell_type": "markdown",
      "metadata": {
        "id": "Cpsa86xZ1-y2"
      },
      "source": [
        "# Creación de aristas"
      ]
    },
    {
      "cell_type": "code",
      "execution_count": null,
      "metadata": {
        "id": "5pEjVqQM9-Eq"
      },
      "outputs": [],
      "source": [
        "# Crear una lista vacía para almacenar todos los objetos PolyLine\n",
        "polylines = []\n",
        "\n",
        "# Iterar sobre cada par de nodos en el grafo y crear una PolyLine para cada arista\n",
        "for i in range(len(grafo.listavertices)):\n",
        "    for j in range(i+1, len(grafo.listavertices)):\n",
        "        nodo1 = grafo.listavertices[i]\n",
        "        nodo2 = grafo.listavertices[j]\n",
        "        # Obtener el peso de la arista\n",
        "        weight = round(grafo.MatrizDis[i][j], 2)\n",
        "        # Crear una PolyLine utilizando las coordenadas de los dos nodos\n",
        "        polyline = folium.PolyLine(locations=[(nodo1.lat, nodo1.lng), (nodo2.lat, nodo2.lng)], color='purple', tooltip=str(weight)+' km')\n",
        "        # Agregar la PolyLine a la lista de polylines\n",
        "        polylines.append(polyline)\n",
        "        #print(nodo2.lng)\n",
        "# Agregar todas las PolyLines al mapa al mismo tiempo\n",
        "for polyline in polylines:\n",
        "    polyline.add_to(mapG)\n"
      ]
    },
    {
      "cell_type": "markdown",
      "metadata": {
        "id": "OHac_Qq72PR2"
      },
      "source": [
        "#Mapa conectado"
      ]
    },
    {
      "cell_type": "code",
      "execution_count": null,
      "metadata": {
        "colab": {
          "base_uri": "https://localhost:8080/",
          "height": 831
        },
        "id": "AgSLrGt-2I9u",
        "outputId": "3ab71cc2-ef5d-468f-9ccd-9d4973fd81de"
      },
      "outputs": [],
      "source": [
        "mapG"
      ]
    },
    {
      "cell_type": "markdown",
      "metadata": {
        "id": "gQNXoHQBZT9d"
      },
      "source": [
        "# Algoritmo Prim"
      ]
    },
    {
      "cell_type": "code",
      "execution_count": 108,
      "metadata": {
        "id": "Mo8q0qEPCw2c"
      },
      "outputs": [],
      "source": [
        "def prim(graph):\n",
        "    # Inicializar el árbol de expansión mínima y el conjunto de nodos visitados\n",
        "    mst = []\n",
        "    visited = set()\n",
        "    \n",
        "    # Elegir un nodo inicial arbitrario y agregarlo al conjunto de nodos visitados\n",
        "    start_node = 0\n",
        "    visited.add(start_node)\n",
        "    \n",
        "    # Inicializar la cola de prioridad con las aristas adyacentes al nodo inicial\n",
        "    edges = [(weight, start_node, end_node) for end_node, weight in enumerate(graph[start_node])]\n",
        "    heapq.heapify(edges)\n",
        "\n",
        "    # Continuar mientras la cola de prioridad no esté vacía\n",
        "    while edges:\n",
        "        # Obtener la arista con el menor peso\n",
        "        weight, start_node, end_node = heapq.heappop(edges)\n",
        "        \n",
        "        # Si el nodo final no ha sido visitado, agregar la arista al árbol de expansión mínima\n",
        "        if end_node not in visited:\n",
        "            visited.add(end_node)\n",
        "            mst.append((start_node, end_node))\n",
        "            \n",
        "            # Agregar las aristas adyacentes al nodo final a la cola de prioridad\n",
        "            for next_end_node, weight in enumerate(graph[end_node]):\n",
        "                if next_end_node not in visited:\n",
        "                    heapq.heappush(edges, (weight, end_node, next_end_node))\n",
        "    \n",
        "    return mst"
      ]
    },
    {
      "cell_type": "code",
      "execution_count": 109,
      "metadata": {
        "id": "xVZeXtN87oNe"
      },
      "outputs": [],
      "source": [
        "def calcular_peso_total(mst, graph):\n",
        "    peso_total = 0\n",
        "    for start_node, end_node in mst:\n",
        "        peso_total += graph[start_node][end_node]\n",
        "    return peso_total\n"
      ]
    },
    {
      "cell_type": "code",
      "execution_count": 110,
      "metadata": {
        "id": "uAFhQkiZORk3"
      },
      "outputs": [],
      "source": [
        "def dibujar_aristas_mst(map, grafo, mst):\n",
        "    # Crear una lista vacía para almacenar todas las PolyLines\n",
        "    polylines = []\n",
        "    \n",
        "    # Iterar sobre cada arista en el árbol de expansión mínima\n",
        "    for start_node, end_node in mst:\n",
        "        # Obtener los objetos Node correspondientes a los nodos inicial y final de la arista\n",
        "        nodo1 = grafo.listavertices[start_node]\n",
        "        nodo2 = grafo.listavertices[end_node]\n",
        "        \n",
        "        # Obtener el peso de la arista\n",
        "        weight = round(grafo.MatrizDis[start_node][end_node], 2)\n",
        "\n",
        "        # Crear una PolyLine utilizando las coordenadas de los dos nodos\n",
        "        polyline = folium.PolyLine(locations=[(nodo1.lat, nodo1.lng), (nodo2.lat, nodo2.lng)], color='red', tooltip=str(weight)+' km')\n",
        "        \n",
        "        # Agregar la PolyLine a la lista de polylines\n",
        "        polylines.append(polyline)\n",
        "    \n",
        "    # Agregar todas las PolyLines al mapa al mismo tiempo\n",
        "    for polyline in polylines:\n",
        "        polyline.add_to(map_prim)\n"
      ]
    },
    {
      "cell_type": "code",
      "execution_count": 111,
      "metadata": {
        "id": "Nc0j2gJOXNUh"
      },
      "outputs": [],
      "source": [
        "# Calcular el árbol de expansión mínima del grafo utilizando el método kruskal\n",
        "mstp = prim(grafo.MatrizDis)\n",
        "\n",
        "#peso del arbol\n",
        "peso_total = calcular_peso_total(mstp, grafo.MatrizDis)\n",
        "\n",
        "# Crear un nuevo objeto map de folium\n",
        "map_prim = folium.Map(location=[4.570868,-74.297333],zoom_start=6)\n",
        "for index, location_info in cities.iterrows():\n",
        "    folium.Marker([location_info[\"lat\"], location_info[\"lng\"]], popup=location_info[\"city\"], icon=folium.Icon(color=\"blue\", icon=\"plane\")).add_to(map_prim)\n",
        "\n",
        "# Dibujar solo las aristas del árbol de expansión mínima en el nuevo mapa utilizando el método dibujar_aristas_mst\n",
        "dibujar_aristas_mst(map_prim, grafo, mstp)"
      ]
    },
    {
      "cell_type": "markdown",
      "metadata": {
        "id": "LifxlayL1_yL"
      },
      "source": [
        "# Mapa de Prim"
      ]
    },
    {
      "cell_type": "code",
      "execution_count": null,
      "metadata": {
        "colab": {
          "base_uri": "https://localhost:8080/",
          "height": 849
        },
        "id": "-3TQjj73Pqr4",
        "outputId": "27dfda67-045f-4714-df49-bb02a4790876"
      },
      "outputs": [],
      "source": [
        "print(f'El peso del arbol de expansión minima por prim tiene un peso de: {round(peso_total,2)} en km')\n",
        "map_prim"
      ]
    },
    {
      "cell_type": "markdown",
      "metadata": {
        "id": "38ycAsLQZdhD"
      },
      "source": [
        "# Algoritmo Kruskal"
      ]
    },
    {
      "cell_type": "code",
      "execution_count": 113,
      "metadata": {
        "id": "oueT29X2bsRg"
      },
      "outputs": [],
      "source": [
        "# Crear un nuevo objeto map de folium\n",
        "map_kruskal = folium.Map(location=[4.570868,-74.297333],zoom_start=6)\n",
        "for index, location_info in cities.iterrows():\n",
        "    folium.Marker([location_info[\"lat\"], location_info[\"lng\"]], popup=location_info[\"city\"], icon=folium.Icon(color=\"blue\", icon=\"plane\")).add_to(map_kruskal)\n"
      ]
    },
    {
      "cell_type": "code",
      "execution_count": 114,
      "metadata": {
        "id": "rBxZ_TPIZxiN"
      },
      "outputs": [],
      "source": [
        "def kruskal(graph):\n",
        "    # Inicializar el árbol de expansión mínima y el conjunto de nodos visitados\n",
        "    mst = []\n",
        "    visited = set()\n",
        "    \n",
        "    # Crear una lista de todas las aristas del grafo\n",
        "    edges = []\n",
        "    for start_node in range(len(graph)):\n",
        "        for end_node, weight in enumerate(graph[start_node]):\n",
        "            edges.append((weight, start_node, end_node))\n",
        "    \n",
        "    # Ordenar las aristas por peso\n",
        "    edges.sort()\n",
        "    \n",
        "    # Inicializar un arreglo para almacenar los conjuntos disjuntos de nodos\n",
        "    parent = [i for i in range(len(graph))]\n",
        "    \n",
        "    # Función auxiliar para encontrar el conjunto al que pertenece un nodo\n",
        "    def find_parent(node):\n",
        "        if parent[node] == node:\n",
        "            return node\n",
        "        parent[node] = find_parent(parent[node])\n",
        "        return parent[node]\n",
        "    \n",
        "    # Función auxiliar para unir dos conjuntos disjuntos\n",
        "    def union(u, v):\n",
        "        u_set = find_parent(u)\n",
        "        v_set = find_parent(v)\n",
        "        parent[u_set] = v_set\n",
        "    \n",
        "    # Iterar sobre cada arista en orden ascendente por peso\n",
        "    for edge in edges:\n",
        "        weight, start_node, end_node = edge\n",
        "        \n",
        "        # Si los nodos inicial y final de la arista pertenecen a conjuntos disjuntos,\n",
        "        # agregar la arista al árbol de expansión mínima y unir los conjuntos\n",
        "        if find_parent(start_node) != find_parent(end_node):\n",
        "            union(start_node, end_node)\n",
        "            mst.append((start_node, end_node))\n",
        "    \n",
        "    return mst\n",
        "\n",
        "# Calcular el árbol de expansión mínima del grafo utilizando el método kruskal\n",
        "mst = kruskal(grafo.MatrizDis)\n",
        "\n",
        "# Calcular el costo total del árbol de expansión mínima\n",
        "costo_totalK = 0\n",
        "for start_node, end_node in mst:\n",
        "    costo_totalK += grafo.MatrizDis[start_node][end_node]"
      ]
    },
    {
      "cell_type": "code",
      "execution_count": 115,
      "metadata": {
        "id": "9XcoIrHchY-J"
      },
      "outputs": [],
      "source": [
        "def dibujar_aristas_mst(map, grafo, mst):\n",
        "    # Crear una lista vacía para almacenar todas las PolyLines\n",
        "    polylines = []\n",
        "    \n",
        "    # Iterar sobre cada arista en el árbol de expansión mínima\n",
        "    for start_node, end_node in mst:\n",
        "        # Obtener los objetos Node correspondientes a los nodos inicial y final de la arista\n",
        "        nodo1 = grafo.listavertices[start_node]\n",
        "        nodo2 = grafo.listavertices[end_node]\n",
        "        \n",
        "        # Obtener el peso de la arista\n",
        "        weight = round(grafo.MatrizDis[start_node][end_node], 2)\n",
        "\n",
        "        # Crear una PolyLine utilizando las coordenadas de los dos nodos\n",
        "        polyline = folium.PolyLine(locations=[(nodo1.lat, nodo1.lng), (nodo2.lat, nodo2.lng)], color='green', tooltip=str(weight)+' km')\n",
        "        \n",
        "        # Agregar la PolyLine a la lista de polylines\n",
        "        polylines.append(polyline)\n",
        "    \n",
        "    # Agregar todas las PolyLines al mapa al mismo tiempo\n",
        "    for polyline in polylines:\n",
        "        polyline.add_to(map_kruskal)"
      ]
    },
    {
      "cell_type": "code",
      "execution_count": 116,
      "metadata": {
        "id": "nHBqKIyQeWGv"
      },
      "outputs": [],
      "source": [
        "# Calcular el árbol de expansión mínima del grafo utilizando el método kruskal\n",
        "mstk = kruskal(grafo.MatrizDis)\n",
        "\n",
        "# Crear un nuevo objeto map de folium\n",
        "map_kruskal = folium.Map(location=[4.570868,-74.297333],zoom_start=6)\n",
        "\n",
        "# Agregar marcadores para cada ciudad en el mapa\n",
        "for index, location_info in cities.iterrows():\n",
        "    folium.Marker([location_info[\"lat\"], location_info[\"lng\"]], popup=location_info[\"city\"], icon=folium.Icon(color=\"blue\", icon=\"plane\")).add_to(map_kruskal)\n",
        "\n",
        "# Dibujar solo las aristas del árbol de expansión mínima en el nuevo mapa utilizando el método dibujar_aristas_mst\n",
        "dibujar_aristas_mst(map_kruskal, grafo, mstk)"
      ]
    },
    {
      "cell_type": "markdown",
      "metadata": {
        "id": "uKJX1DEi1w_W"
      },
      "source": [
        "# Mapa de Kruskal"
      ]
    },
    {
      "cell_type": "code",
      "execution_count": null,
      "metadata": {
        "colab": {
          "base_uri": "https://localhost:8080/",
          "height": 849
        },
        "id": "FeDeeq6zenXM",
        "outputId": "0f6588d7-dd12-44b9-dc97-0a4eaf1db4b2"
      },
      "outputs": [],
      "source": [
        "print(f'El peso del arbol de expansión minima por Kruskal tiene un peso de: {round(costo_totalK,2)} en km')\n",
        "map_kruskal"
      ]
    }
  ],
  "metadata": {
    "colab": {
      "collapsed_sections": [
        "49xQJkf8aCaA",
        "Xzczlq44A9_k",
        "Cpsa86xZ1-y2",
        "gQNXoHQBZT9d",
        "38ycAsLQZdhD"
      ],
      "provenance": []
    },
    "kernelspec": {
      "display_name": "Python 3",
      "name": "python3"
    },
    "language_info": {
      "name": "python"
    }
  },
  "nbformat": 4,
  "nbformat_minor": 0
}
